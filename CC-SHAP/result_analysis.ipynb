{
 "cells": [
  {
   "cell_type": "code",
   "execution_count": 69,
   "metadata": {},
   "outputs": [],
   "source": [
    "from pathlib import Path\n",
    "import numpy as np\n",
    "import json\n",
    "import matplotlib.pyplot as plt"
   ]
  },
  {
   "cell_type": "code",
   "execution_count": 70,
   "metadata": {},
   "outputs": [],
   "source": [
    "def load_json_file(file_path):\n",
    "    \"\"\"\n",
    "    Load a JSON file and return its contents as a dictionary.\n",
    "\n",
    "    :param file_path: Path to the JSON file.\n",
    "    :return: Parsed JSON content as a dictionary.\n",
    "    :raises: FileNotFoundError, json.JSONDecodeError\n",
    "    \"\"\"\n",
    "    try:\n",
    "        with open(file_path, 'r') as file:\n",
    "            data = json.load(file)\n",
    "        return data\n",
    "    except FileNotFoundError:\n",
    "        print(f\"Error: The file '{file_path}' does not exist.\")\n",
    "        raise\n",
    "    except json.JSONDecodeError as e:\n",
    "        print(f\"Error: Failed to decode JSON from file '{file_path}'.\")\n",
    "        print(f\"Details: {e}\")\n",
    "        raise\n"
   ]
  },
  {
   "cell_type": "code",
   "execution_count": 92,
   "metadata": {},
   "outputs": [],
   "source": [
    "class ComveResult:\n",
    "    def __init__(self, results_json):\n",
    "        self.results_json = results_json\n",
    "\n",
    "    def examples_names(self):\n",
    "        return list(self.results_json.keys())\n",
    "\n",
    "    def get_example(self, example_name: str):\n",
    "        return self.results_json[example_name]\n",
    "    \n",
    "    def get_variable(self, variable):\n",
    "        cc_shap_cot_values = []\n",
    "        for example_name in self.examples_names():\n",
    "            cc_shap_score = self.get_example(example_name)[variable]\n",
    "            cc_shap_cot_values.append(float(cc_shap_score))\n",
    "\n",
    "        return np.array(cc_shap_cot_values)\n",
    "\n",
    "    def describe(self, variable):\n",
    "        cc_shap_cot_values = self.get_variable(variable)\n",
    "\n",
    "        print(\"Mean: \", cc_shap_cot_values.mean())\n",
    "        print(\"Min: \", cc_shap_cot_values.min())\n",
    "        print(\"Max: \", cc_shap_cot_values.max())\n",
    "        print(\"Std dev: \", cc_shap_cot_values.std())\n",
    "\n",
    "    def boxplot(self, variable):\n",
    "        cc_shap_cot_values = self.get_variable(variable)\n",
    "\n",
    "        plt.boxplot(cc_shap_cot_values, orientation=\"horizontal\")\n",
    "        plt.xlim((-1.0, 1.0))\n",
    "        plt.show()"
   ]
  },
  {
   "cell_type": "code",
   "execution_count": 93,
   "metadata": {},
   "outputs": [
    {
     "name": "stdout",
     "output_type": "stream",
     "text": [
      "File: comve_gpt2_25.json\n",
      "Variable: cc_shap-posthoc\n",
      "\n",
      "Mean:  0.04680000000000001\n",
      "Min:  -0.35\n",
      "Max:  0.28\n",
      "Std dev:  0.14611557069662356\n"
     ]
    },
    {
     "data": {
      "image/png": "[encoded data removed]",
      "text/plain": [
       "<Figure size 640x480 with 1 Axes>"
      ]
     },
     "metadata": {},
     "output_type": "display_data"
    }
   ],
   "source": [
    "file_name = \"comve_gpt2_25.json\"\n",
    "results = load_json_file(Path(\"results_json\", file_name))\n",
    "comve_results = ComveResult(results)\n",
    "variable = \"cc_shap-posthoc\"\n",
    "\n",
    "print(\"File:\", file_name)\n",
    "print(\"Variable:\", f\"{variable}\\n\")\n",
    "comve_results.describe(variable)\n",
    "comve_results.boxplot(variable)"
   ]
  },
  {
   "cell_type": "code",
   "execution_count": 95,
   "metadata": {},
   "outputs": [
    {
     "name": "stdout",
     "output_type": "stream",
     "text": [
      "File: comve_gpt2_100.json\n",
      "Variable: cc_shap-cot\n",
      "\n",
      "Mean:  0.35119999999999996\n",
      "Min:  -0.08\n",
      "Max:  0.5\n",
      "Std dev:  0.09562719278531603\n"
     ]
    },
    {
     "data": {
      "image/png": "[encoded data removed]",
      "text/plain": [
       "<Figure size 640x480 with 1 Axes>"
      ]
     },
     "metadata": {},
     "output_type": "display_data"
    }
   ],
   "source": [
    "file_name = \"comve_gpt2_100.json\"\n",
    "results = load_json_file(Path(\"results_json\", file_name))\n",
    "comve_results = ComveResult(results)\n",
    "variable = \"cc_shap-cot\"\n",
    "\n",
    "print(\"File:\", file_name)\n",
    "print(\"Variable:\", f\"{variable}\\n\")\n",
    "comve_results.describe(variable)\n",
    "comve_results.boxplot(variable)"
   ]
  }
 ],
 "metadata": {
  "kernelspec": {
   "display_name": "unfaithful",
   "language": "python",
   "name": "python3"
  },
  "language_info": {
   "codemirror_mode": {
    "name": "ipython",
    "version": 3
   },
   "file_extension": ".py",
   "mimetype": "text/x-python",
   "name": "python",
   "nbconvert_exporter": "python",
   "pygments_lexer": "ipython3",
   "version": "3.11.11"
  }
 },
 "nbformat": 4,
 "nbformat_minor": 2
}
