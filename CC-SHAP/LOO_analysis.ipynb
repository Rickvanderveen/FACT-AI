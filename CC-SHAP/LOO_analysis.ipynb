{
 "cells": [
  {
   "cell_type": "markdown",
   "metadata": {},
   "source": [
    "# LOO"
   ]
  },
  {
   "cell_type": "markdown",
   "metadata": {},
   "source": [
    "## Similarity measure evaluation\n",
    "The sentence similarity measure used in LOO is evaluated on the [STS dataset](https://huggingface.co/datasets/sentence-transformers/stsb), containing sentence pair similarity annoted by humans."
   ]
  },
  {
   "cell_type": "code",
   "execution_count": 1,
   "metadata": {},
   "outputs": [
    {
     "name": "stderr",
     "output_type": "stream",
     "text": [
      "/home/rick/miniconda3/envs/fact2/lib/python3.11/site-packages/torchvision/io/image.py:13: UserWarning: Failed to load image Python extension: '/home/rick/miniconda3/envs/fact2/lib/python3.11/site-packages/torchvision/image.so: undefined symbol: _ZN3c1017RegisterOperatorsD1Ev'If you don't plan on using image functionality from `torchvision.io`, you can ignore this warning. Otherwise, there might be something wrong with your environment. Did you have `libjpeg` or `libpng` installed before building `torchvision` from source?\n",
      "  warn(\n",
      "/home/rick/miniconda3/envs/fact2/lib/python3.11/site-packages/torchvision/datapoints/__init__.py:12: UserWarning: The torchvision.datapoints and torchvision.transforms.v2 namespaces are still Beta. While we do not expect major breaking changes, some APIs may still change according to user feedback. Please submit any feedback you may have in this issue: https://github.com/pytorch/vision/issues/6753, and you can also check out https://github.com/pytorch/vision/issues/7319 to learn more about the APIs that we suspect might involve future changes. You can silence this warning by calling torchvision.disable_beta_transforms_warning().\n",
      "  warnings.warn(_BETA_TRANSFORMS_WARNING)\n",
      "/home/rick/miniconda3/envs/fact2/lib/python3.11/site-packages/torchvision/transforms/v2/__init__.py:54: UserWarning: The torchvision.datapoints and torchvision.transforms.v2 namespaces are still Beta. While we do not expect major breaking changes, some APIs may still change according to user feedback. Please submit any feedback you may have in this issue: https://github.com/pytorch/vision/issues/6753, and you can also check out https://github.com/pytorch/vision/issues/7319 to learn more about the APIs that we suspect might involve future changes. You can silence this warning by calling torchvision.disable_beta_transforms_warning().\n",
      "  warnings.warn(_BETA_TRANSFORMS_WARNING)\n"
     ]
    }
   ],
   "source": [
    "from pathlib import Path\n",
    "\n",
    "from sentence_transformers import SentenceTransformer\n",
    "from sklearn.metrics.pairwise import cosine_similarity\n",
    "import torch\n",
    "from datasets import load_dataset\n",
    "import numpy as np\n",
    "from tqdm.notebook import tqdm\n",
    "from matplotlib import pyplot as plt\n",
    "import pandas as pd\n",
    "\n",
    "from experiment_result import (\n",
    "    ExperimentResult,\n",
    "    load_json_file,\n",
    "    cumsum_to_differences,\n",
    "    find_arg,\n",
    "    TEST_TO_VARIABLE_NAME,\n",
    ")"
   ]
  },
  {
   "cell_type": "code",
   "execution_count": 2,
   "metadata": {},
   "outputs": [],
   "source": [
    "encoder = SentenceTransformer('all-MiniLM-L6-v2')\n",
    "device = 'cuda' if torch.cuda.is_available() else 'cpu'\n",
    "encoder = encoder.to(device)"
   ]
  },
  {
   "cell_type": "code",
   "execution_count": 3,
   "metadata": {},
   "outputs": [],
   "source": [
    "# STS dataset from huggingface \n",
    "sts_dataset = load_dataset(\"sentence-transformers/stsb\")\n",
    "test_sts_dataset = sts_dataset.get(\"test\")"
   ]
  },
  {
   "cell_type": "code",
   "execution_count": 4,
   "metadata": {},
   "outputs": [],
   "source": [
    "rng = np.random.default_rng(42)\n",
    "random_idx = rng.integers(\n",
    "    0,\n",
    "    len(test_sts_dataset),\n",
    "    size=3\n",
    ")"
   ]
  },
  {
   "cell_type": "code",
   "execution_count": 5,
   "metadata": {},
   "outputs": [
    {
     "name": "stdout",
     "output_type": "stream",
     "text": [
      "Meat is being put into a skillet.\n",
      "A woman is putting a baby into a trash can.\n",
      "Score: 0.08, Predicted similarity: 0.06008782237768173 \n",
      "\n",
      "I think we made the right case and did the right thing.\"\n",
      "Mr Blair went on: \"I think we did the right thing in relation to Iraq.\n",
      "Score: 0.55, Predicted similarity: 0.5586274862289429 \n",
      "\n",
      "The consensus among Wall Street analysts was for a loss of 28 cents a share.\n",
      "Analysts surveyed by First Call were expecting sales of $723 million and a loss of 28 cents a share.\n",
      "Score: 0.6, Predicted similarity: 0.6452685594558716 \n",
      "\n"
     ]
    }
   ],
   "source": [
    "for idx, sentence_idx in enumerate(random_idx):\n",
    "    sentence_pair_similarity = test_sts_dataset[int(sentence_idx)]\n",
    "    sentence_1 = sentence_pair_similarity[\"sentence1\"]\n",
    "    sentence_2 = sentence_pair_similarity[\"sentence2\"]\n",
    "    pair = [sentence_1, sentence_2]\n",
    "    encoded_sentences = encoder.encode(pair)\n",
    "    similarity = cosine_similarity(encoded_sentences[0:1], encoded_sentences[1:2])[0][0]\n",
    "\n",
    "    print(\"\\n\".join((\n",
    "        sentence_1,\n",
    "        sentence_2,\n",
    "        f\"Score: {sentence_pair_similarity['score']}, Predicted similarity: {similarity}\"\n",
    "    )), \"\\n\")"
   ]
  },
  {
   "cell_type": "code",
   "execution_count": 6,
   "metadata": {},
   "outputs": [
    {
     "data": {
      "application/vnd.jupyter.widget-view+json": {
       "model_id": "45b9844146354804a8bafe8da3374d77",
       "version_major": 2,
       "version_minor": 0
      },
      "text/plain": [
       "  0%|          | 0/1379 [00:00<?, ?it/s]"
      ]
     },
     "metadata": {},
     "output_type": "display_data"
    }
   ],
   "source": [
    "similarity_diff = []\n",
    "\n",
    "for idx, sentence_pair_similarity in tqdm(enumerate(test_sts_dataset), total=len(test_sts_dataset)):\n",
    "    sentence_1 = sentence_pair_similarity[\"sentence1\"]\n",
    "    sentence_2 = sentence_pair_similarity[\"sentence2\"]\n",
    "    pair = [sentence_1, sentence_2]\n",
    "    encoded_sentences = encoder.encode(pair)\n",
    "    similarity = cosine_similarity(encoded_sentences[0:1], encoded_sentences[1:2])[0][0]\n",
    "\n",
    "    diff = np.abs(sentence_pair_similarity['score'] - similarity)\n",
    "    similarity_diff.append(diff)\n",
    "similarity_diff = np.array(similarity_diff)"
   ]
  },
  {
   "cell_type": "code",
   "execution_count": 7,
   "metadata": {},
   "outputs": [
    {
     "name": "stdout",
     "output_type": "stream",
     "text": [
      "Similarity diff mean: 0.14835433662926442\n",
      "Similarity diff std: 0.1216799930457631\n",
      "Similarity diff min: 6.411552429197442e-05\n",
      "Similarity diff max: 0.735506172478199\n"
     ]
    }
   ],
   "source": [
    "print(\"Similarity diff mean:\", np.mean(similarity_diff))\n",
    "print(\"Similarity diff std:\", np.std(similarity_diff))\n",
    "print(\"Similarity diff min:\", np.min(similarity_diff))\n",
    "print(\"Similarity diff max:\", np.max(similarity_diff))\n"
   ]
  },
  {
   "cell_type": "code",
   "execution_count": 17,
   "metadata": {},
   "outputs": [
    {
     "data": {
      "image/png": "[encoded data removed]",
      "text/plain": [
       "<Figure size 800x600 with 2 Axes>"
      ]
     },
     "metadata": {},
     "output_type": "display_data"
    }
   ],
   "source": [
    "# Create a figure with two subplots\n",
    "\n",
    "fig, (ax_hist, ax_box) = plt.subplots(\n",
    "    nrows=2, sharex=True, gridspec_kw={\"height_ratios\": (3, 1)}, figsize=(8, 6)\n",
    ")\n",
    "\n",
    "# Plot histogram\n",
    "ax_hist.hist(similarity_diff, bins=30, alpha=0.7, color='blue', edgecolor='black')\n",
    "ax_hist.set_ylabel('Frequency')\n",
    "\n",
    "# Plot boxplot\n",
    "ax_box.boxplot(similarity_diff, vert=False, patch_artist=True,\n",
    "               boxprops=dict(facecolor='orange', color='black'),\n",
    "               medianprops=dict(color='black'),\n",
    "               showfliers=False)\n",
    "ax_box.set_xlabel('Absolute difference')\n",
    "ax_box.yaxis.set_visible(False)\n",
    "\n",
    "# Set title and adjust layout\n",
    "ax_hist.set_title('Frequency of the absolute error in similarity')\n",
    "plt.tight_layout()\n",
    "plt.show()"
   ]
  },
  {
   "cell_type": "markdown",
   "metadata": {},
   "source": [
    "## LOO Thresold"
   ]
  },
  {
   "cell_type": "markdown",
   "metadata": {},
   "source": [
    "## Test different LOO Thresholds"
   ]
  },
  {
   "cell_type": "code",
   "execution_count": 9,
   "metadata": {},
   "outputs": [],
   "source": [
    "result_dir = Path(\"results\")"
   ]
  },
  {
   "cell_type": "code",
   "execution_count": 10,
   "metadata": {},
   "outputs": [],
   "source": [
    "llo_results = result_dir / \"results_LOO_threshold\"\n",
    "\n",
    "threshold_files = llo_results.glob(\"*.json\")\n",
    "\n",
    "llo_rows = []\n",
    "for experiment in threshold_files:\n",
    "    experiment = ExperimentResult(load_json_file(experiment))\n",
    "    args = experiment.args\n",
    "    short_model_name = find_arg(args, \"model_name\")\n",
    "    dataset = find_arg(args, \"c_task\")\n",
    "    n_samples = find_arg(args, \"number_of_samples\")\n",
    "    loo_threshold = experiment.loo_threshold\n",
    "\n",
    "    assert n_samples == len(experiment.examples_names()), \"Number of samples from args is different than actual number of samples\"\n",
    "\n",
    "    for test in experiment.tests:\n",
    "        variable_name = TEST_TO_VARIABLE_NAME[test]\n",
    "        test_results = experiment.get_variable(variable_name)\n",
    "\n",
    "        # The \"atanasova_input_from_expl\" keeps a counter and not 0 or 1\n",
    "        # per sample\n",
    "        if test == \"atanasova_input_from_expl\":\n",
    "            test_results = cumsum_to_differences(test_results)\n",
    "\n",
    "        mean = np.mean(test_results)\n",
    "        std = np.std(test_results)\n",
    "        min_val = np.min(test_results)\n",
    "        max_val = np.max(test_results)\n",
    "\n",
    "        new_row = {\n",
    "            \"Model\": short_model_name,\n",
    "            \"dataset\": dataset,\n",
    "            \"n_samples\": n_samples,\n",
    "            \"loo_threshold\": loo_threshold,\n",
    "            \"test\": test,\n",
    "            \"mean\": mean,\n",
    "            \"std\": std,\n",
    "            \"min\": min_val,\n",
    "            \"max\": max_val,\n",
    "        }\n",
    "        llo_rows.append(new_row)\n",
    "\n",
    "llo_results_dataframe = pd.DataFrame(llo_rows)"
   ]
  },
  {
   "cell_type": "code",
   "execution_count": 18,
   "metadata": {},
   "outputs": [
    {
     "data": {
      "text/html": [
       "<div>\n",
       "<style scoped>\n",
       "    .dataframe tbody tr th:only-of-type {\n",
       "        vertical-align: middle;\n",
       "    }\n",
       "\n",
       "    .dataframe tbody tr th {\n",
       "        vertical-align: top;\n",
       "    }\n",
       "\n",
       "    .dataframe thead th {\n",
       "        text-align: right;\n",
       "    }\n",
       "</style>\n",
       "<table border=\"1\" class=\"dataframe\">\n",
       "  <thead>\n",
       "    <tr style=\"text-align: right;\">\n",
       "      <th></th>\n",
       "      <th>Model</th>\n",
       "      <th>dataset</th>\n",
       "      <th>n_samples</th>\n",
       "      <th>loo_threshold</th>\n",
       "      <th>test</th>\n",
       "      <th>mean</th>\n",
       "      <th>std</th>\n",
       "      <th>min</th>\n",
       "      <th>max</th>\n",
       "    </tr>\n",
       "  </thead>\n",
       "  <tbody>\n",
       "    <tr>\n",
       "      <th>14</th>\n",
       "      <td>gpt2</td>\n",
       "      <td>comve</td>\n",
       "      <td>1</td>\n",
       "      <td>0.10</td>\n",
       "      <td>loo-posthoc</td>\n",
       "      <td>0.0000</td>\n",
       "      <td>0.000000</td>\n",
       "      <td>0.00</td>\n",
       "      <td>0.00</td>\n",
       "    </tr>\n",
       "    <tr>\n",
       "      <th>20</th>\n",
       "      <td>gpt2</td>\n",
       "      <td>comve</td>\n",
       "      <td>1</td>\n",
       "      <td>0.20</td>\n",
       "      <td>loo-posthoc</td>\n",
       "      <td>0.0000</td>\n",
       "      <td>0.000000</td>\n",
       "      <td>0.00</td>\n",
       "      <td>0.00</td>\n",
       "    </tr>\n",
       "    <tr>\n",
       "      <th>0</th>\n",
       "      <td>gpt2</td>\n",
       "      <td>comve</td>\n",
       "      <td>1</td>\n",
       "      <td>0.30</td>\n",
       "      <td>loo-posthoc</td>\n",
       "      <td>0.0000</td>\n",
       "      <td>0.000000</td>\n",
       "      <td>0.00</td>\n",
       "      <td>0.00</td>\n",
       "    </tr>\n",
       "    <tr>\n",
       "      <th>11</th>\n",
       "      <td>gpt2</td>\n",
       "      <td>comve</td>\n",
       "      <td>1</td>\n",
       "      <td>0.40</td>\n",
       "      <td>loo-posthoc</td>\n",
       "      <td>0.0000</td>\n",
       "      <td>0.000000</td>\n",
       "      <td>0.00</td>\n",
       "      <td>0.00</td>\n",
       "    </tr>\n",
       "    <tr>\n",
       "      <th>21</th>\n",
       "      <td>gpt2</td>\n",
       "      <td>comve</td>\n",
       "      <td>1</td>\n",
       "      <td>0.50</td>\n",
       "      <td>loo-posthoc</td>\n",
       "      <td>0.0000</td>\n",
       "      <td>0.000000</td>\n",
       "      <td>0.00</td>\n",
       "      <td>0.00</td>\n",
       "    </tr>\n",
       "    <tr>\n",
       "      <th>7</th>\n",
       "      <td>gpt2</td>\n",
       "      <td>comve</td>\n",
       "      <td>1</td>\n",
       "      <td>0.60</td>\n",
       "      <td>loo-posthoc</td>\n",
       "      <td>0.0000</td>\n",
       "      <td>0.000000</td>\n",
       "      <td>0.00</td>\n",
       "      <td>0.00</td>\n",
       "    </tr>\n",
       "    <tr>\n",
       "      <th>12</th>\n",
       "      <td>gpt2</td>\n",
       "      <td>comve</td>\n",
       "      <td>1</td>\n",
       "      <td>0.70</td>\n",
       "      <td>loo-posthoc</td>\n",
       "      <td>0.0000</td>\n",
       "      <td>0.000000</td>\n",
       "      <td>0.00</td>\n",
       "      <td>0.00</td>\n",
       "    </tr>\n",
       "    <tr>\n",
       "      <th>6</th>\n",
       "      <td>gpt2</td>\n",
       "      <td>comve</td>\n",
       "      <td>1</td>\n",
       "      <td>0.80</td>\n",
       "      <td>loo-posthoc</td>\n",
       "      <td>0.0000</td>\n",
       "      <td>0.000000</td>\n",
       "      <td>0.00</td>\n",
       "      <td>0.00</td>\n",
       "    </tr>\n",
       "    <tr>\n",
       "      <th>10</th>\n",
       "      <td>gpt2</td>\n",
       "      <td>comve</td>\n",
       "      <td>1</td>\n",
       "      <td>0.90</td>\n",
       "      <td>loo-posthoc</td>\n",
       "      <td>0.2500</td>\n",
       "      <td>0.000000</td>\n",
       "      <td>0.25</td>\n",
       "      <td>0.25</td>\n",
       "    </tr>\n",
       "    <tr>\n",
       "      <th>17</th>\n",
       "      <td>gpt2</td>\n",
       "      <td>comve</td>\n",
       "      <td>1</td>\n",
       "      <td>0.99</td>\n",
       "      <td>loo-posthoc</td>\n",
       "      <td>0.1800</td>\n",
       "      <td>0.000000</td>\n",
       "      <td>0.18</td>\n",
       "      <td>0.18</td>\n",
       "    </tr>\n",
       "    <tr>\n",
       "      <th>9</th>\n",
       "      <td>gpt2</td>\n",
       "      <td>comve</td>\n",
       "      <td>5</td>\n",
       "      <td>0.20</td>\n",
       "      <td>loo-posthoc</td>\n",
       "      <td>0.0000</td>\n",
       "      <td>0.000000</td>\n",
       "      <td>0.00</td>\n",
       "      <td>0.00</td>\n",
       "    </tr>\n",
       "    <tr>\n",
       "      <th>16</th>\n",
       "      <td>gpt2</td>\n",
       "      <td>comve</td>\n",
       "      <td>5</td>\n",
       "      <td>0.40</td>\n",
       "      <td>loo-posthoc</td>\n",
       "      <td>0.0000</td>\n",
       "      <td>0.000000</td>\n",
       "      <td>0.00</td>\n",
       "      <td>0.00</td>\n",
       "    </tr>\n",
       "    <tr>\n",
       "      <th>2</th>\n",
       "      <td>gpt2</td>\n",
       "      <td>comve</td>\n",
       "      <td>5</td>\n",
       "      <td>0.50</td>\n",
       "      <td>loo-posthoc</td>\n",
       "      <td>0.0000</td>\n",
       "      <td>0.000000</td>\n",
       "      <td>0.00</td>\n",
       "      <td>0.00</td>\n",
       "    </tr>\n",
       "    <tr>\n",
       "      <th>1</th>\n",
       "      <td>gpt2</td>\n",
       "      <td>comve</td>\n",
       "      <td>5</td>\n",
       "      <td>0.60</td>\n",
       "      <td>loo-posthoc</td>\n",
       "      <td>0.0300</td>\n",
       "      <td>0.060000</td>\n",
       "      <td>0.00</td>\n",
       "      <td>0.15</td>\n",
       "    </tr>\n",
       "    <tr>\n",
       "      <th>19</th>\n",
       "      <td>gpt2</td>\n",
       "      <td>comve</td>\n",
       "      <td>5</td>\n",
       "      <td>0.80</td>\n",
       "      <td>loo-posthoc</td>\n",
       "      <td>0.1340</td>\n",
       "      <td>0.136323</td>\n",
       "      <td>0.00</td>\n",
       "      <td>0.37</td>\n",
       "    </tr>\n",
       "    <tr>\n",
       "      <th>3</th>\n",
       "      <td>gpt2</td>\n",
       "      <td>comve</td>\n",
       "      <td>5</td>\n",
       "      <td>1.00</td>\n",
       "      <td>loo-posthoc</td>\n",
       "      <td>0.2980</td>\n",
       "      <td>0.069685</td>\n",
       "      <td>0.23</td>\n",
       "      <td>0.42</td>\n",
       "    </tr>\n",
       "    <tr>\n",
       "      <th>18</th>\n",
       "      <td>gpt2</td>\n",
       "      <td>comve</td>\n",
       "      <td>50</td>\n",
       "      <td>0.20</td>\n",
       "      <td>loo-posthoc</td>\n",
       "      <td>0.0100</td>\n",
       "      <td>0.070000</td>\n",
       "      <td>0.00</td>\n",
       "      <td>0.50</td>\n",
       "    </tr>\n",
       "    <tr>\n",
       "      <th>15</th>\n",
       "      <td>gpt2</td>\n",
       "      <td>comve</td>\n",
       "      <td>50</td>\n",
       "      <td>0.40</td>\n",
       "      <td>loo-posthoc</td>\n",
       "      <td>0.0730</td>\n",
       "      <td>0.178989</td>\n",
       "      <td>0.00</td>\n",
       "      <td>0.71</td>\n",
       "    </tr>\n",
       "    <tr>\n",
       "      <th>5</th>\n",
       "      <td>gpt2</td>\n",
       "      <td>comve</td>\n",
       "      <td>50</td>\n",
       "      <td>0.50</td>\n",
       "      <td>loo-posthoc</td>\n",
       "      <td>0.0860</td>\n",
       "      <td>0.172534</td>\n",
       "      <td>0.00</td>\n",
       "      <td>0.58</td>\n",
       "    </tr>\n",
       "    <tr>\n",
       "      <th>13</th>\n",
       "      <td>gpt2</td>\n",
       "      <td>comve</td>\n",
       "      <td>50</td>\n",
       "      <td>0.60</td>\n",
       "      <td>loo-posthoc</td>\n",
       "      <td>0.0978</td>\n",
       "      <td>0.176298</td>\n",
       "      <td>0.00</td>\n",
       "      <td>0.71</td>\n",
       "    </tr>\n",
       "    <tr>\n",
       "      <th>4</th>\n",
       "      <td>gpt2</td>\n",
       "      <td>comve</td>\n",
       "      <td>50</td>\n",
       "      <td>0.80</td>\n",
       "      <td>loo-posthoc</td>\n",
       "      <td>0.1702</td>\n",
       "      <td>0.172145</td>\n",
       "      <td>0.00</td>\n",
       "      <td>0.55</td>\n",
       "    </tr>\n",
       "    <tr>\n",
       "      <th>8</th>\n",
       "      <td>gpt2</td>\n",
       "      <td>comve</td>\n",
       "      <td>50</td>\n",
       "      <td>1.00</td>\n",
       "      <td>loo-posthoc</td>\n",
       "      <td>0.2724</td>\n",
       "      <td>0.058431</td>\n",
       "      <td>0.16</td>\n",
       "      <td>0.43</td>\n",
       "    </tr>\n",
       "  </tbody>\n",
       "</table>\n",
       "</div>"
      ],
      "text/plain": [
       "   Model dataset  n_samples  loo_threshold         test    mean       std  \\\n",
       "14  gpt2   comve          1           0.10  loo-posthoc  0.0000  0.000000   \n",
       "20  gpt2   comve          1           0.20  loo-posthoc  0.0000  0.000000   \n",
       "0   gpt2   comve          1           0.30  loo-posthoc  0.0000  0.000000   \n",
       "11  gpt2   comve          1           0.40  loo-posthoc  0.0000  0.000000   \n",
       "21  gpt2   comve          1           0.50  loo-posthoc  0.0000  0.000000   \n",
       "7   gpt2   comve          1           0.60  loo-posthoc  0.0000  0.000000   \n",
       "12  gpt2   comve          1           0.70  loo-posthoc  0.0000  0.000000   \n",
       "6   gpt2   comve          1           0.80  loo-posthoc  0.0000  0.000000   \n",
       "10  gpt2   comve          1           0.90  loo-posthoc  0.2500  0.000000   \n",
       "17  gpt2   comve          1           0.99  loo-posthoc  0.1800  0.000000   \n",
       "9   gpt2   comve          5           0.20  loo-posthoc  0.0000  0.000000   \n",
       "16  gpt2   comve          5           0.40  loo-posthoc  0.0000  0.000000   \n",
       "2   gpt2   comve          5           0.50  loo-posthoc  0.0000  0.000000   \n",
       "1   gpt2   comve          5           0.60  loo-posthoc  0.0300  0.060000   \n",
       "19  gpt2   comve          5           0.80  loo-posthoc  0.1340  0.136323   \n",
       "3   gpt2   comve          5           1.00  loo-posthoc  0.2980  0.069685   \n",
       "18  gpt2   comve         50           0.20  loo-posthoc  0.0100  0.070000   \n",
       "15  gpt2   comve         50           0.40  loo-posthoc  0.0730  0.178989   \n",
       "5   gpt2   comve         50           0.50  loo-posthoc  0.0860  0.172534   \n",
       "13  gpt2   comve         50           0.60  loo-posthoc  0.0978  0.176298   \n",
       "4   gpt2   comve         50           0.80  loo-posthoc  0.1702  0.172145   \n",
       "8   gpt2   comve         50           1.00  loo-posthoc  0.2724  0.058431   \n",
       "\n",
       "     min   max  \n",
       "14  0.00  0.00  \n",
       "20  0.00  0.00  \n",
       "0   0.00  0.00  \n",
       "11  0.00  0.00  \n",
       "21  0.00  0.00  \n",
       "7   0.00  0.00  \n",
       "12  0.00  0.00  \n",
       "6   0.00  0.00  \n",
       "10  0.25  0.25  \n",
       "17  0.18  0.18  \n",
       "9   0.00  0.00  \n",
       "16  0.00  0.00  \n",
       "2   0.00  0.00  \n",
       "1   0.00  0.15  \n",
       "19  0.00  0.37  \n",
       "3   0.23  0.42  \n",
       "18  0.00  0.50  \n",
       "15  0.00  0.71  \n",
       "5   0.00  0.58  \n",
       "13  0.00  0.71  \n",
       "4   0.00  0.55  \n",
       "8   0.16  0.43  "
      ]
     },
     "metadata": {},
     "output_type": "display_data"
    }
   ],
   "source": [
    "display(llo_results_dataframe.sort_values([\"n_samples\", \"loo_threshold\"]))"
   ]
  },
  {
   "cell_type": "markdown",
   "metadata": {},
   "source": [
    "###"
   ]
  },
  {
   "cell_type": "code",
   "execution_count": 19,
   "metadata": {},
   "outputs": [],
   "source": [
    "STS_SIMILARITY_THRESHOLD = 0.6"
   ]
  },
  {
   "cell_type": "code",
   "execution_count": 20,
   "metadata": {},
   "outputs": [
    {
     "data": {
      "application/vnd.jupyter.widget-view+json": {
       "model_id": "7d0939a009154274ab3fac97af6575b4",
       "version_major": 2,
       "version_minor": 0
      },
      "text/plain": [
       "  0%|          | 0/5749 [00:00<?, ?it/s]"
      ]
     },
     "metadata": {},
     "output_type": "display_data"
    }
   ],
   "source": [
    "train_sts_dataset = sts_dataset.get(\"train\")\n",
    "\n",
    "pred_train_similarity = []\n",
    "true_train_similar = []\n",
    "\n",
    "for idx, sentence_pair_similarity in tqdm(enumerate(train_sts_dataset), total=len(train_sts_dataset)):\n",
    "    sentence_1 = sentence_pair_similarity[\"sentence1\"]\n",
    "    sentence_2 = sentence_pair_similarity[\"sentence2\"]\n",
    "    pair = [sentence_1, sentence_2]\n",
    "    encoded_sentences = encoder.encode(pair)\n",
    "    similarity = cosine_similarity(encoded_sentences[0:1], encoded_sentences[1:2])[0][0]\n",
    "\n",
    "    similar = False\n",
    "    if sentence_pair_similarity['score'] >= STS_SIMILARITY_THRESHOLD:\n",
    "        similar = True\n",
    "\n",
    "    pred_train_similarity.append(similarity)\n",
    "    true_train_similar.append(similar)\n",
    "\n",
    "pred_train_similarity = np.array(pred_train_similarity)\n",
    "true_train_similar = np.array(true_train_similar)"
   ]
  },
  {
   "cell_type": "code",
   "execution_count": 22,
   "metadata": {},
   "outputs": [
    {
     "name": "stdout",
     "output_type": "stream",
     "text": [
      "Intersection point: 0.6793587174348696\n"
     ]
    },
    {
     "data": {
      "image/png": "[encoded data removed]",
      "text/plain": [
       "<Figure size 1200x500 with 1 Axes>"
      ]
     },
     "metadata": {},
     "output_type": "display_data"
    }
   ],
   "source": [
    "from scipy.stats import gaussian_kde\n",
    "\n",
    "# Separate scores based on the binary labels\n",
    "right_matches = pred_train_similarity[true_train_similar]\n",
    "wrong_matches = pred_train_similarity[~true_train_similar]\n",
    "\n",
    "\n",
    "bins = np.linspace(0, 1, 100)\n",
    "\n",
    "\n",
    "# Create the figure and axis\n",
    "plt.figure(figsize=(12, 5))\n",
    "\n",
    "plt.hist(right_matches, bins=bins, density=True, alpha=0.6, color='green', label=\"Right Matches\")\n",
    "plt.hist(wrong_matches, bins=bins, density=True, alpha=0.6, color='red', label=\"Wrong Matches\")\n",
    "\n",
    "# KDE (Kernel Density Estimation) for smooth curves\n",
    "kde_right = gaussian_kde(right_matches)\n",
    "kde_wrong = gaussian_kde(wrong_matches)\n",
    "\n",
    "x_vals = np.linspace(0, 1, 500)\n",
    "kde_right_vals = kde_right(x_vals)\n",
    "kde_wrong_vals = kde_wrong(x_vals)\n",
    "\n",
    "# Find the point where rights and wrongs cross\n",
    "diff = kde_right_vals - kde_wrong_vals\n",
    "zero_crossings = np.where(np.diff(np.sign(diff)))[0]\n",
    "\n",
    "intersection_points = x_vals[zero_crossings]\n",
    "print(\"Intersection point:\", intersection_points[0])\n",
    "\n",
    "plt.plot(x_vals, kde_right_vals, color='green', linewidth=2)\n",
    "plt.plot(x_vals, kde_wrong_vals, color='red', linewidth=2)\n",
    "\n",
    "\n",
    "plt.xlim(0.0, 1.0)\n",
    "plt.axvline(intersection_points[0])\n",
    "xticks = list(plt.xticks()[0])\n",
    "xticks.append(round(intersection_points[0], 2))\n",
    "plt.xticks(sorted(xticks))\n",
    "\n",
    "# Labels and legend\n",
    "plt.xlabel(\"Cosine similarity\")\n",
    "plt.ylabel(\"Density\")\n",
    "plt.legend()\n",
    "plt.show()"
   ]
  },
  {
   "cell_type": "code",
   "execution_count": 23,
   "metadata": {},
   "outputs": [
    {
     "data": {
      "application/vnd.jupyter.widget-view+json": {
       "model_id": "6d122d7de1ba45819dd4933a275a71a7",
       "version_major": 2,
       "version_minor": 0
      },
      "text/plain": [
       "  0%|          | 0/1379 [00:00<?, ?it/s]"
      ]
     },
     "metadata": {},
     "output_type": "display_data"
    }
   ],
   "source": [
    "similarity_threshold = 0.68\n",
    "\n",
    "pred_test_similar = []\n",
    "true_test_similar = []\n",
    "\n",
    "for idx, sentence_pair_similarity in tqdm(enumerate(test_sts_dataset), total=len(test_sts_dataset)):\n",
    "    sentence_1 = sentence_pair_similarity[\"sentence1\"]\n",
    "    sentence_2 = sentence_pair_similarity[\"sentence2\"]\n",
    "    pair = [sentence_1, sentence_2]\n",
    "    encoded_sentences = encoder.encode(pair)\n",
    "    similarity = cosine_similarity(encoded_sentences[0:1], encoded_sentences[1:2])[0][0]\n",
    "\n",
    "    similar = False\n",
    "    if sentence_pair_similarity['score'] >= STS_SIMILARITY_THRESHOLD:\n",
    "        similar = True\n",
    "    \n",
    "    pred_similar = False\n",
    "    if similarity >= similarity_threshold:\n",
    "        pred_similar = True\n",
    "\n",
    "    pred_test_similar.append(pred_similar)\n",
    "    true_test_similar.append(similar)\n",
    "\n",
    "pred_test_similar = np.array(pred_test_similar).astype(float)\n",
    "true_test_similar = np.array(true_test_similar).astype(float)"
   ]
  },
  {
   "cell_type": "code",
   "execution_count": 24,
   "metadata": {},
   "outputs": [
    {
     "name": "stdout",
     "output_type": "stream",
     "text": [
      "Accuracy: 0.815\n",
      "Precision: 0.819\n",
      "Recall: 0.798\n",
      "F1-Score: 0.808\n"
     ]
    }
   ],
   "source": [
    "from sklearn.metrics import accuracy_score, precision_score, recall_score, f1_score\n",
    "\n",
    "\n",
    "accuracy = accuracy_score(true_test_similar, pred_test_similar)\n",
    "precision = precision_score(true_test_similar, pred_test_similar)\n",
    "recall = recall_score(true_test_similar, pred_test_similar)\n",
    "f1 = f1_score(true_test_similar, pred_test_similar)\n",
    "\n",
    "# Print Results\n",
    "print(f\"Accuracy: {accuracy:.3f}\")\n",
    "print(f\"Precision: {precision:.3f}\")\n",
    "print(f\"Recall: {recall:.3f}\")\n",
    "print(f\"F1-Score: {f1:.3f}\")"
   ]
  }
 ],
 "metadata": {
  "kernelspec": {
   "display_name": "fact2",
   "language": "python",
   "name": "python3"
  },
  "language_info": {
   "codemirror_mode": {
    "name": "ipython",
    "version": 3
   },
   "file_extension": ".py",
   "mimetype": "text/x-python",
   "name": "python",
   "nbconvert_exporter": "python",
   "pygments_lexer": "ipython3",
   "version": "3.11.9"
  }
 },
 "nbformat": 4,
 "nbformat_minor": 2
}
